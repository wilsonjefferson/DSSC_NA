{
 "cells": [
  {
   "cell_type": "code",
   "execution_count": null,
   "metadata": {
    "collapsed": false
   },
   "outputs": [],
   "source": [
    "import numpy as np\n",
    "import numpy.polynomial.polynomial as n_poly\n",
    "import numpy.polynomial.legendre as leg\n",
    "from scipy import integrate\n",
    "from scipy import optimize\n",
    "from scipy import interpolate\n",
    "import sympy as sym\n",
    "%pylab inline\n"
   ]
  },
  {
   "cell_type": "code",
   "execution_count": null,
   "metadata": {
    "collapsed": false
   },
   "outputs": [],
   "source": [
    "# Set the interval for L2 and the number of basis functions\n",
    "A=-1.0\n",
    "B=1.0\n",
    "N=15"
   ]
  },
  {
   "cell_type": "code",
   "execution_count": null,
   "metadata": {
    "collapsed": true
   },
   "outputs": [],
   "source": [
    "# Define the scalar product in L2([A,B])\n",
    "t = sym.symbols('t')\n",
    "\n",
    "def scalar_prod(p0,p1):\n",
    "    assert len(p0.free_symbols) <= 1, \"I can only do this for single variable functions...\"\n",
    "    tt = p0.free_symbols.pop() if len(p0.free_symbols) == 1 else sym.symbols('t')\n",
    "    foo1 = sym.lambdify(tt, p0, 'numpy')\n",
    "    foo2 = sym.lambdify(tt, p1, 'numpy')\n",
    "    foo3 = lambda x : foo1(x) * foo2(x)\n",
    "    foo = integrate.quad(foo3,A,B)\n",
    "    return foo[0]"
   ]
  },
  {
   "cell_type": "code",
   "execution_count": null,
   "metadata": {
    "collapsed": false
   },
   "outputs": [],
   "source": [
    "\n",
    "\n",
    "PLk = [1+0.*t] # Force it to be a sympy expression\n",
    "PMk = [1+0.*t]\n",
    "\n",
    "for k in range(1,N):\n",
    "    s = 0\n",
    "    for j in range(0,k):\n",
    "        s+= scalar_prod(t**k,PLk[j])/scalar_prod(PLk[j],PLk[j])*PLk[j]\n",
    "    pk = t**k-s\n",
    "    # pk = pk/sym.sqrt(scalar_prod(pk,pk))\n",
    "    pk = pk/pk.subs(t,1.)\n",
    "    PLk.append(pk)\n",
    "    PMk.append(t**k)\n",
    "\n",
    "xx = np.linspace(A,B,100)\n",
    "figure()\n",
    "fs = sym.lambdify(t, PMk[0], 'numpy')\n",
    "plot(xx, np.ones(xx.shape)*fs(xx))\n",
    "for k in range(1,N):\n",
    "    fs = sym.lambdify(t, PMk[k], 'numpy')\n",
    "    plot(xx, fs(xx))\n",
    "figure()\n",
    "fs = sym.lambdify(t, PLk[0], 'numpy')\n",
    "plot(xx, np.ones(xx.shape)*fs(xx))\n",
    "for k in range(1,N):\n",
    "    fs = sym.lambdify(t, PLk[k], 'numpy')\n",
    "    plot(xx, fs(xx))\n",
    "    \n",
    "\n",
    "figure()\n",
    "for k in range(N):\n",
    "    c = np.zeros(k)\n",
    "    if k == 0:\n",
    "        c = 1\n",
    "    else:\n",
    "        c[-1] = 1\n",
    "    plot(xx, leg.legval(xx,c))\n",
    "\n"
   ]
  },
  {
   "cell_type": "code",
   "execution_count": null,
   "metadata": {
    "collapsed": false
   },
   "outputs": [],
   "source": [
    "#Best Approximation\n",
    "f = sym.cos(8.*np.pi/(B-A)*t)\n",
    "\n",
    "M_LP = np.zeros([N,N])\n",
    "M_MP = np.zeros([N,N])\n",
    "\n",
    "f_M = np.zeros([N,1])\n",
    "\n",
    "f_L = np.zeros([N,1])\n",
    "\n",
    "for i in range(N):\n",
    "    f_M[i] = scalar_prod(PMk[i],f)\n",
    "    f_L[i] = scalar_prod(PLk[i],f)\n",
    "    for j in range(N):\n",
    "        M_LP[i,j] = scalar_prod(PLk[i],PLk[j])\n",
    "        M_MP[i,j] = scalar_prod(PMk[i],PMk[j])\n",
    "\n",
    "        \n",
    "\n",
    "p_L = np.linalg.solve(M_LP, f_L)\n",
    "\n",
    "p_M = np.linalg.solve(M_MP, f_M)\n",
    "f_p_L = 0.\n",
    "f_p_M = 0.\n",
    "for i in range(N):\n",
    "    f_p_L += p_L[i]*PLk[i]\n",
    "    f_p_M += p_M[i]*PMk[i]\n",
    "\n",
    "fpL = sym.lambdify(t, f_p_L[0], 'numpy')\n",
    "fpM = sym.lambdify(t, f_p_M[0], 'numpy')\n",
    "ff = sym.lambdify(t, f, 'numpy')\n",
    "\n",
    "plot(xx, ff(xx), 'r*')\n",
    "plot(xx, fpL(xx), 'b')\n",
    "plot(xx, fpL(xx), 'g')\n",
    "\n",
    "# print M_LP\n",
    "print(np.linalg.cond(M_LP))\n",
    "print(np.linalg.cond(M_MP))"
   ]
  },
  {
   "cell_type": "code",
   "execution_count": null,
   "metadata": {
    "collapsed": false
   },
   "outputs": [],
   "source": [
    "N_lagrange = N\n",
    "x_interp = np.linspace(A,B,N_lagrange)\n",
    "x_cheby = np.array([np.cos((2.*j-1)/(2.*N_lagrange)*np.pi) for j in range(1,N_lagrange+1)])\n",
    "print x_cheby\n",
    "lagrange_interp = interpolate.lagrange(x_interp, ff(x_interp))\n",
    "cheb_interp = interpolate.lagrange(x_cheby, ff(x_cheby))\n",
    "tck = interpolate.splrep(x_interp, ff(x_interp), s=0)\n",
    "yspline = interpolate.splev(xx, tck, der=0)\n",
    "figure()\n",
    "plot(xx, lagrange_interp(xx))\n",
    "figure()\n",
    "plot(xx, cheb_interp(xx))\n",
    "figure()\n",
    "plot(xx, yspline)\n",
    "\n",
    "print integrate.quad(lambda x: (ff(x) - lagrange_interp(x))**2,A,B)\n",
    "\n",
    "print integrate.quad(lambda x: (ff(x) - cheb_interp(x))**2,A,B)\n",
    "\n",
    "print integrate.quad(lambda x: (ff(x) - interpolate.splev(x, tck, der=0))**2,A,B)\n",
    "\n",
    "print integrate.quad(lambda x: (ff(x) - fpL(x))**2,A,B)\n",
    "\n",
    "print integrate.quad(lambda x: (ff(x) - fpM(x))**2,A,B)"
   ]
  },
  {
   "cell_type": "code",
   "execution_count": null,
   "metadata": {
    "collapsed": false
   },
   "outputs": [],
   "source": [
    "# Root of Legendre polynomial\n",
    "fs = sym.lambdify(t, PLk[8], 'numpy')\n",
    "x0 = linspace(A,B,8)\n",
    "# roots = optimize.brentq(fs, A, B)\n",
    "roots = optimize.fsolve(fs, x0)\n",
    "# roots = optimize.root(fs, x0)\n",
    "print roots\n",
    "plot(xx,fs(xx))\n",
    "x0[1] = -0.85\n",
    "x0[-2] = 0.85\n",
    "roots = optimize.fsolve(fs, x0)\n",
    "print roots\n",
    "\n",
    "c = np.zeros(8+1)\n",
    "c[-1] = 1\n",
    "print leg.legroots(c)\n",
    "\n",
    "xg,wg = np.polynomial.legendre.leggauss(8)\n",
    "\n",
    "print xg"
   ]
  },
  {
   "cell_type": "code",
   "execution_count": null,
   "metadata": {
    "collapsed": false
   },
   "outputs": [],
   "source": [
    "# Gauss Integration\n",
    "\n",
    "f_gauss = lambda x : 8*np.sin(x)+3*np.cos(15.*x) \n",
    "\n",
    "I = integrate.quad(f_gauss,A,B)\n",
    "\n",
    "n_gauss = 10\n",
    "\n",
    "xg,wg = np.polynomial.legendre.leggauss(n_gauss)\n",
    "\n",
    "In = np.dot(wg,f_gauss(xg))\n",
    "\n",
    "error = list()\n",
    "Ngmax = 40\n",
    "order = np.arange(1,Ngmax)\n",
    "for i in order:\n",
    "    xg,wg = np.polynomial.legendre.leggauss(i)\n",
    "#     In = np.dot(wg,f_gauss(xg))\n",
    "    In = np.einsum('j,j',wg,f_gauss(xg))\n",
    "    error.append(np.abs(I[0]-In))\n",
    "\n",
    "# print error\n",
    "plot(order, error)\n",
    "figure()\n",
    "loglog(order,error)\n",
    "loglog(order,np.ones(Ngmax-1)*I[1])\n",
    "figure()\n",
    "semilogy(order, error)\n",
    "semilogy(order,np.ones(Ngmax-1)*I[1])\n",
    "\n",
    "## REMARK QUADRATURE ORDER ON (f, vi) FOR BEST APPROXIMATION"
   ]
  },
  {
   "cell_type": "code",
   "execution_count": null,
   "metadata": {
    "collapsed": true
   },
   "outputs": [],
   "source": []
  }
 ],
 "metadata": {
  "anaconda-cloud": {},
  "kernelspec": {
   "display_name": "Python [Root]",
   "language": "python",
   "name": "Python [Root]"
  },
  "language_info": {
   "codemirror_mode": {
    "name": "ipython",
    "version": 2
   },
   "file_extension": ".py",
   "mimetype": "text/x-python",
   "name": "python",
   "nbconvert_exporter": "python",
   "pygments_lexer": "ipython2",
   "version": "2.7.12"
  }
 },
 "nbformat": 4,
 "nbformat_minor": 1
}
