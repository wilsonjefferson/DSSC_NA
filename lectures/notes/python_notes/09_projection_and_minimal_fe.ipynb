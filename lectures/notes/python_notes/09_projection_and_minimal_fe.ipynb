{
 "cells": [
  {
   "cell_type": "code",
   "execution_count": null,
   "metadata": {},
   "outputs": [],
   "source": [
    "%pylab inline\n",
    "import scipy\n",
    "from scipy.interpolate import *\n",
    "from scipy.integrate import *"
   ]
  },
  {
   "cell_type": "code",
   "execution_count": null,
   "metadata": {
    "collapsed": true
   },
   "outputs": [],
   "source": [
    "# Runge function\n",
    "def myfun(x):\n",
    "    return 1/(1+50*(x-.5)**2)"
   ]
  },
  {
   "cell_type": "code",
   "execution_count": null,
   "metadata": {
    "collapsed": true
   },
   "outputs": [],
   "source": [
    "N = 1025\n",
    "M = 11\n",
    "\n",
    "x = linspace(0,1, N)\n",
    "q = linspace(0,1, M)\n",
    "degree = 1"
   ]
  },
  {
   "cell_type": "code",
   "execution_count": null,
   "metadata": {
    "collapsed": true
   },
   "outputs": [],
   "source": [
    "yq = myfun(q)"
   ]
  },
  {
   "cell_type": "markdown",
   "metadata": {},
   "source": [
    "The combination of the functions `splrep` and `PPoly.from_spline` can be used to construct a piecewise polynomial objects, for which we can evaluate the value and all the derivatives at arbitrary points.\n",
    "\n",
    "The basis functions are constructed from the spline interpolation by computing the piecewise interpolation of a function that has value one in one of the support points `q[i]` and zero in all other support points.\n",
    "\n",
    "Such function is unique, there are `M` of them, and they define a basis for a piecewise polynomial space of dimension `M`.\n",
    "\n",
    "We store in two matrices `B` and `dB` the values and the derivatives of all basis functions computed at the points `x`, for easy evaluation of integrals, and for easy plotting.\n",
    "\n",
    "Moreover, we also store the piecewise polynomials themselves, to allow for their evaluation later on."
   ]
  },
  {
   "cell_type": "code",
   "execution_count": null,
   "metadata": {},
   "outputs": [],
   "source": [
    "B = zeros((N,M))\n",
    "dB = zeros((N,M))\n",
    "\n",
    "basis = []\n",
    "dbasis = []\n",
    "\n",
    "for i in range(M):\n",
    "    c = q*0\n",
    "    c[i] = 1\n",
    "    bi = PPoly.from_spline(splrep(q,c,k=degree))\n",
    "\n",
    "    B[:,i] = bi(x)\n",
    "    dB[:,i] = bi.derivative(1)(x)\n",
    "    \n",
    "    basis.append(bi)\n",
    "    dbasis.append(bi.derivative(1))\n",
    "_ = plot(x,B)"
   ]
  },
  {
   "cell_type": "code",
   "execution_count": null,
   "metadata": {},
   "outputs": [],
   "source": [
    "# This can be used to compute the piecewise polynomial interpolation of our function\n",
    "\n",
    "plot(x, myfun(x))\n",
    "plot(q, yq, 'ro')\n",
    "plot(x, B.dot(myfun(q)))"
   ]
  },
  {
   "cell_type": "code",
   "execution_count": null,
   "metadata": {
    "collapsed": true
   },
   "outputs": [],
   "source": [
    "# Now let's compute the least square approximation of `myfun` on all points `x`\n",
    "# This is the same as computing the L2 projection when we approximate the integral by sum(1/N*f(x_i))\n",
    "\n",
    "BtB = B.T.dot(B)\n",
    "pL2 = linalg.solve(BtB, B.T.dot(myfun(x)))"
   ]
  },
  {
   "cell_type": "code",
   "execution_count": null,
   "metadata": {},
   "outputs": [],
   "source": [
    "# Let's plot the approximated function, together with the interpolation\n",
    "\n",
    "plot(x, myfun(x))\n",
    "plot(x, B.dot(myfun(q)))\n",
    "plot(x, B.dot(pL2))\n",
    "plot(q, myfun(q), 'ro')\n",
    "plot(q, pL2, 'go')"
   ]
  },
  {
   "cell_type": "markdown",
   "metadata": {},
   "source": [
    "The finite element method is a similar way to approximate a variational formulation of a PDE problem.\n",
    "\n",
    "Consider for example:\n",
    "\n",
    "$$\n",
    "-u'' +u = f\n",
    "$$\n",
    "with boundary conditions\n",
    "$$\n",
    "u'(0) = u'(1) = 0\n",
    "$$\n",
    "\n",
    "This can be written in variational form as\n",
    "$$\n",
    "(u', v') + (u,v) = (f,v) \\qquad \\forall v \\in H^1([0,1])\n",
    "$$\n",
    "where $H^1([0,1])$ is the set of square integrable functions, with square integrable first derivative.\n",
    "\n",
    "If we approximate the integrals by the sum of the values at the points `x`, then the above system can be solved in the finite dimensional space by\n",
    "\n",
    "$$\n",
    "(dB^T dB + B^T B) u = B^T f\n",
    "$$\n",
    "similarly to what we did before."
   ]
  },
  {
   "cell_type": "code",
   "execution_count": null,
   "metadata": {
    "collapsed": true
   },
   "outputs": [],
   "source": [
    "A = dB.T.dot(dB)+B.T.dot(B)"
   ]
  },
  {
   "cell_type": "code",
   "execution_count": null,
   "metadata": {
    "collapsed": true
   },
   "outputs": [],
   "source": [
    "# the constant one: the solution is one.\n",
    "rhs = B.T.dot(x*0+1)\n",
    "u = linalg.solve(A, rhs)"
   ]
  },
  {
   "cell_type": "code",
   "execution_count": null,
   "metadata": {},
   "outputs": [],
   "source": [
    "plot(x, B.dot(u))"
   ]
  },
  {
   "cell_type": "code",
   "execution_count": null,
   "metadata": {},
   "outputs": [],
   "source": [
    "# Now test with f = x\n",
    "\n",
    "rhs = B.T.dot(x)\n",
    "u = linalg.solve(A, rhs)\n",
    "_ = plot(x, B.dot(u))"
   ]
  },
  {
   "cell_type": "code",
   "execution_count": null,
   "metadata": {},
   "outputs": [],
   "source": [
    "# We expect the derivatives in 0 and 1 to be zero. There is an error here, that should decrease increasing M, \n",
    "# or integrating the matrices and the right hand side using Gauss quadrature rules (or both!).\n",
    "dB.dot(u)[[0,-1]]"
   ]
  },
  {
   "cell_type": "markdown",
   "metadata": {},
   "source": [
    "In order to compute the matrix and the right hand side using quadrature formulas, we use a collection of quadrature points and quadrature weights *on each interval* of the spline space. The intervals are stored as `x` (with some repeated entries) in the `PPoly` object."
   ]
  },
  {
   "cell_type": "code",
   "execution_count": null,
   "metadata": {
    "collapsed": true
   },
   "outputs": [],
   "source": [
    "# Make sure every interval border is taken only once\n",
    "intervals = unique(basis[0].x)\n",
    "\n",
    "# and make sure we can integrate exactly the product of two basis functions\n",
    "qp, w = numpy.polynomial.legendre.leggauss(degree+1)\n",
    "\n",
    "# Rescale the points and weights to work from zero to one\n",
    "qp = (qp+1)/2\n",
    "w /= 2\n",
    "\n",
    "# Now replicate these points and weights in all the intervals\n",
    "h = diff(intervals)\n",
    "Q = array([intervals[i]+h[i]*qp for i in range(len(h))]).reshape((-1,))\n",
    "W = array([w*h[i] for i in range(len(h))]).reshape((-1,))"
   ]
  },
  {
   "cell_type": "code",
   "execution_count": null,
   "metadata": {},
   "outputs": [],
   "source": [
    "# Check that we can integrate exactly x**(2*degree):\n",
    "error = ((Q**(2*degree)).T.dot(W) - 1/(2*degree+1))\n",
    "error"
   ]
  },
  {
   "cell_type": "markdown",
   "metadata": {},
   "source": [
    "Now we compute the Basis functions and their derivatives on the quadrature points"
   ]
  },
  {
   "cell_type": "code",
   "execution_count": null,
   "metadata": {
    "collapsed": true
   },
   "outputs": [],
   "source": [
    "Bq = array([basis[i](Q) for i in range(M)]).T\n",
    "dBq = array([dbasis[i](Q) for i in range(M)]).T"
   ]
  },
  {
   "cell_type": "markdown",
   "metadata": {},
   "source": [
    "To compute the L2 projection matrix $M_{ij} = (v_i, v_j)$ and the stiffness matrix $A_{ij} = (v_i', v_j')$, I will use `einsum`:"
   ]
  },
  {
   "cell_type": "code",
   "execution_count": null,
   "metadata": {
    "collapsed": true
   },
   "outputs": [],
   "source": [
    "M = einsum('qi, q, qj', Bq, W, Bq)\n",
    "K = einsum('qi, q, qj', dBq, W, dBq)\n",
    "\n",
    "A = M+K"
   ]
  },
  {
   "cell_type": "code",
   "execution_count": null,
   "metadata": {},
   "outputs": [],
   "source": [
    "# Compute the same problem as before using the new way to compute integrals\n",
    "\n",
    "rhs = einsum('qi, q, q', Bq, W, Q)\n",
    "u = linalg.solve(A, rhs)\n",
    "\n",
    "plot(x, B.dot(u))"
   ]
  },
  {
   "cell_type": "code",
   "execution_count": null,
   "metadata": {},
   "outputs": [],
   "source": [
    "# As we see, computing the integrals exactly does not change too much the result. You'll see that running \n",
    "# everything with higher M or higher degree makes the result a bit closer to what you should get theoretically\n",
    "dB.dot(u)[[0,-1]]"
   ]
  }
 ],
 "metadata": {
  "kernelspec": {
   "display_name": "Python 3",
   "language": "python",
   "name": "python3"
  },
  "language_info": {
   "codemirror_mode": {
    "name": "ipython",
    "version": 3
   },
   "file_extension": ".py",
   "mimetype": "text/x-python",
   "name": "python",
   "nbconvert_exporter": "python",
   "pygments_lexer": "ipython3",
   "version": "3.6.7"
  }
 },
 "nbformat": 4,
 "nbformat_minor": 2
}
