{
 "cells": [
  {
   "cell_type": "markdown",
   "metadata": {},
   "source": [
    "# Numpy Broadcasting -  advanced manipulation of arrays"
   ]
  },
  {
   "cell_type": "code",
   "execution_count": null,
   "metadata": {},
   "outputs": [],
   "source": [
    "%matplotlib inline\n",
    "from pylab import *\n",
    "from numpy import *"
   ]
  },
  {
   "cell_type": "markdown",
   "metadata": {},
   "source": [
    "## Advanced manipulation of shapes"
   ]
  },
  {
   "cell_type": "markdown",
   "metadata": {},
   "source": [
    "From the manual: \n",
    "\n",
    "The term broadcasting describes how numpy treats arrays with different shapes during arithmetic operations. Subject to certain constraints, the smaller array is “broadcast” across the larger array so that they have compatible shapes. Broadcasting provides a means of vectorizing array operations so that looping occurs in C instead of Python. It does this without making needless copies of data and usually leads to efficient algorithm implementations. There are, however, cases where broadcasting is a bad idea because it leads to inefficient use of memory that slows computation."
   ]
  },
  {
   "cell_type": "code",
   "execution_count": null,
   "metadata": {},
   "outputs": [],
   "source": [
    "x = arange(15)\n",
    "print(x)\n",
    "print(x*2)\n",
    "print(x+2)"
   ]
  },
  {
   "cell_type": "markdown",
   "metadata": {},
   "source": [
    "The operations `x*2` or `x+2` are the simplest broadcasting operation you can think of. The number `2` is extended to an array of the same dimension of `x` and then multiplied or summed **element wise** (all operations, in numpy, are element wise by default).\n",
    "\n",
    "We can think of the scalar `2` being stretched during the arithmetic operation into an array with the same shape as `x`. The new elements are simply copies of the original scalar. The stretching analogy is only conceptual. NumPy is smart enough to use the original scalar value without actually making copies, so that **broadcasting operations are as memory and computationally efficient as possible**.\n"
   ]
  },
  {
   "cell_type": "markdown",
   "metadata": {},
   "source": [
    "## General Broadcasting Rules\n",
    "\n",
    "When operating on two arrays, NumPy compares their shapes element-wise. It starts with the trailing dimensions, and works its way forward. Two dimensions are compatible when\n",
    "\n",
    "- they are equal, or\n",
    "- one of them is 1\n",
    "\n",
    "![Broadcast](http://www.astroml.org/_images/fig_broadcast_visual_1.png)\n",
    "\n",
    "If these conditions are not met, a `ValueError: frames are not aligned` exception is thrown, indicating that the arrays have incompatible shapes. The size of the resulting array is the maximum size along each dimension of the input arrays.\n",
    "\n",
    "Arrays do not need to have the same number of dimensions. For example, if you have a 256x256x3 array of RGB values, and you want to scale each color in the image by a different value, you can multiply the image by a one-dimensional array with 3 values. Lining up the sizes of the trailing axes of these arrays according to the broadcast rules, shows that they are compatible:\n",
    "\n",
    "    Image  (3d array): 256 x 256 x 3\n",
    "    Scale  (1d array):             3\n",
    "    Result (3d array): 256 x 256 x 3\n",
    "    \n",
    "Here are some more examples:\n",
    "\n",
    "    A      (2d array):  5 x 4\n",
    "    B      (1d array):      1\n",
    "    Result (2d array):  5 x 4\n",
    "\n",
    "    A      (2d array):  5 x 4\n",
    "    B      (1d array):      4\n",
    "    Result (2d array):  5 x 4\n",
    "\n",
    "    A      (3d array):  15 x 3 x 5\n",
    "    B      (3d array):  15 x 1 x 5\n",
    "    Result (3d array):  15 x 3 x 5\n",
    "\n",
    "    A      (3d array):  15 x 3 x 5\n",
    "    B      (2d array):       3 x 5\n",
    "    Result (3d array):  15 x 3 x 5\n",
    "\n",
    "    A      (3d array):  15 x 3 x 5\n",
    "    B      (2d array):       3 x 1\n",
    "    Result (3d array):  15 x 3 x 5\n",
    "    "
   ]
  },
  {
   "cell_type": "markdown",
   "metadata": {},
   "source": [
    "## Fast two dimensional plotting, and grid creation\n",
    "\n",
    "One of the most powerful way to exploit this, is when constructing tensor product spaces, or writing and plotting functions of two variables:"
   ]
  },
  {
   "cell_type": "code",
   "execution_count": null,
   "metadata": {
    "collapsed": true
   },
   "outputs": [],
   "source": [
    "x = linspace(0,1,111)\n",
    "y = linspace(10,11,77)"
   ]
  },
  {
   "cell_type": "markdown",
   "metadata": {},
   "source": [
    "What if we wanted sin(2*pi*x)*sin(2*pi*y) for all combinations of x and y?\n",
    "\n",
    "First method:"
   ]
  },
  {
   "cell_type": "code",
   "execution_count": null,
   "metadata": {},
   "outputs": [],
   "source": [
    "# This creates two equal matrices, containing the x and y values repeated along rows and columns\n",
    "X,Y = meshgrid(x,y)\n",
    "\n",
    "Z = sin(2*pi*X)*sin(4*pi*Y)\n",
    "\n",
    "fig, ax = plt.subplots()\n",
    "cnt = ax.contour(X,Y,Z)"
   ]
  },
  {
   "cell_type": "markdown",
   "metadata": {},
   "source": [
    "If we know that we are going to exploit the tensor product structure, i.e., we can write `Z = f(x)*g(y)`, it is more convenient (and faster from the numerical point of view) to use broadcasting:"
   ]
  },
  {
   "cell_type": "code",
   "execution_count": null,
   "metadata": {},
   "outputs": [],
   "source": [
    "# Evaluate cos and sin in the x and y directions\n",
    "sinx = sin(2*pi*x)\n",
    "siny = sin(4*pi*y)\n",
    "\n",
    "# Then broadcast sinx and siny\n",
    "Z = sinx*siny[:,newaxis]\n",
    "\n",
    "fig, ax = plt.subplots()\n",
    "cnt = ax.contour(x,y,Z) # Notice small x and y"
   ]
  },
  {
   "cell_type": "markdown",
   "metadata": {},
   "source": [
    "What just happened?"
   ]
  },
  {
   "cell_type": "code",
   "execution_count": null,
   "metadata": {},
   "outputs": [],
   "source": [
    "print(siny.shape)\n",
    "print(siny[:,newaxis].shape)"
   ]
  },
  {
   "cell_type": "markdown",
   "metadata": {},
   "source": [
    "We added a new shape axis to the `siny` array. This allows us to broadcast it with the `sinx` array, to obtain  a `77x111` matrix, representing the values of our function at the `x` (111 points) and `y` (77 points) positions.\n",
    "\n",
    "The difficult thing to get right at first is the order of the indices. Plots in matplotlib are obtained by running faster with x, then with y, and so on. \n",
    "\n",
    "This is called **lexycographical** ordering. If we look at the matrix entries `Z[i,j]`, the index `j` runs over `x`, and the index `i` runs over `y`. Another equivalent way to obtain the picture above is to use `einsum`:"
   ]
  },
  {
   "cell_type": "code",
   "execution_count": null,
   "metadata": {},
   "outputs": [],
   "source": [
    "Z = einsum('i,j', siny, sinx) # sum over repeated indices: no repetitions = broadcasting\n",
    "\n",
    "fig, ax = plt.subplots()\n",
    "cnt = ax.imshow(Z) # Notice small x and y"
   ]
  },
  {
   "cell_type": "code",
   "execution_count": null,
   "metadata": {
    "collapsed": true
   },
   "outputs": [],
   "source": []
  }
 ],
 "metadata": {
  "kernelspec": {
   "display_name": "Python 3",
   "language": "python",
   "name": "python3"
  },
  "language_info": {
   "codemirror_mode": {
    "name": "ipython",
    "version": 3
   },
   "file_extension": ".py",
   "mimetype": "text/x-python",
   "name": "python",
   "nbconvert_exporter": "python",
   "pygments_lexer": "ipython3",
   "version": "3.6.1"
  }
 },
 "nbformat": 4,
 "nbformat_minor": 1
}
