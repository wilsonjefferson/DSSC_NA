{
 "cells": [
  {
   "cell_type": "code",
   "execution_count": null,
   "metadata": {},
   "outputs": [],
   "source": [
    "%pylab inline"
   ]
  },
  {
   "cell_type": "markdown",
   "metadata": {},
   "source": [
    "# Least square: a recap\n",
    "\n",
    "We would like to approximate a function evaluated on a (large) number of data points, using a finite dimensional space $V_h$ of dimension $n$, defined as the *span* of a set of basis functions $v_i$: any function in $V_h$ can be expressed as a linear combination of the basis $v_i$:\n",
    "\n",
    "$$\n",
    "v_h(x) = v^i v_i(x)\n",
    "$$\n",
    "where summation is implied on $i$.\n",
    "\n",
    "We assume that the function we'd like to approximate is\n",
    "\n",
    "$$\n",
    "f: \\Omega \\mapsto R\n",
    "$$\n",
    "and that the only thing we have at our disposal is $N$ pairs $(x_i,y_i)$, i.e., $N$ points $x_i \\in \\Omega$ in which we know the values $f(x_i)=y_i$.\n",
    "\n",
    "Given *any* finite dimensional space $V_h$ of dimension $n$ (i.e., any collection of $n$ *linearly independent* functions $v_i : \\Omega \\mapsto R$), we define the *basis collocation matrix* $B$ as the rectangular matrix\n",
    "$$\n",
    "B_{ij} = v_j(x_i), i=1,\\dots,N\\quad,j=1,\\dots,n.\n",
    "$$\n",
    "\n",
    "an element of $V_h$ evaluated in all points $x_i$ can be computed easily by the matrix vector product between $B$ and the vector of coefficients $v$:\n",
    "\n",
    "$$\n",
    "v_h(x_i) = (B v)_i = B_{ij} v^j = v^j v_j(x_i)\n",
    "$$\n",
    "\n",
    "Computing the **least square approximation** of $f$ in $V_h$ is equivalent to finding the element of $V_h$ that minimizes the following functional:\n",
    "\n",
    "$$\n",
    "E(v_h) := \\frac{1}{2N} \\sum_{i=1}^N |v_h(x_i)-y_i|^2\n",
    "$$\n",
    "\n",
    "where $E(v_h)$ is the **mean squared error (MSE)** or **mean squared deviation (MSD)** of the approximation $v_h$, i.e., **the average of the squares of the errors**—that is, the **average squared difference between the approximated values and the actual value**.\n",
    "\n",
    "Expressing $v_h(x_i)$ with the matrix product, $E(v_h)$ can be written as \n",
    "\n",
    "$$\n",
    "E(v_h) := \\frac{1}{2N} (Bv-y)^T(Bv-y)\n",
    "$$\n",
    "\n",
    "If we want to minimize $E$, we can take its derivative w.r.t. the coefficients $v^i$ and set the derivative to zero, i.e.:\n",
    "\n",
    "$$\n",
    "\\frac{\\partial E}{\\partial v^i} = \\frac{1}{2N} \\frac{(Bv-y)^T(Bv-y)}{\\partial v^i}= \\frac{1}{N}(B^T Bv - B^Ty)=0\n",
    "$$\n",
    "which admits a unique solution if the linear system \n",
    "$$\n",
    "B^T B v = B^T y\n",
    "$$\n",
    "has a solution.\n",
    "\n",
    "Let's try this with $\\Omega = [0,1]$, $f(x) = \\sin(2\\pi x)$, and $V_h = P^{n-1}([0,1])$."
   ]
  },
  {
   "cell_type": "code",
   "execution_count": null,
   "metadata": {},
   "outputs": [],
   "source": [
    "N_data_points = 1000\n",
    "\n",
    "x = linspace(0,1,N_data_points)\n",
    "\n",
    "y = sin(2*pi*x)+.5"
   ]
  },
  {
   "cell_type": "code",
   "execution_count": null,
   "metadata": {},
   "outputs": [],
   "source": [
    "plot(x,y)"
   ]
  },
  {
   "cell_type": "code",
   "execution_count": null,
   "metadata": {},
   "outputs": [],
   "source": [
    "n = 6\n",
    "\n",
    "B = zeros((N_data_points, n))\n",
    "\n",
    "for d in range(n):\n",
    "    B[:, d] = x**d\n"
   ]
  },
  {
   "cell_type": "code",
   "execution_count": null,
   "metadata": {},
   "outputs": [],
   "source": [
    "plot(x, B)"
   ]
  },
  {
   "cell_type": "markdown",
   "metadata": {},
   "source": [
    "Solve the problem: find $p \\in P^{\\text{degree}}$, such that p is at \"minimum distance from data points\"\n",
    "\n",
    "\n",
    "$$ p_i = B_{ij} p^j$$\n",
    "\n",
    "$$\n",
    "B_{ij} := (x_i)^j\n",
    "$$"
   ]
  },
  {
   "cell_type": "code",
   "execution_count": null,
   "metadata": {},
   "outputs": [],
   "source": [
    "def Loss(p, y):\n",
    "    return .5*(B.dot(p)-y).dot(B.dot(p)-y)/len(y)"
   ]
  },
  {
   "cell_type": "code",
   "execution_count": null,
   "metadata": {},
   "outputs": [],
   "source": [
    "BtB = B.T.dot(B)\n",
    "Bty = B.T.dot(y)"
   ]
  },
  {
   "cell_type": "code",
   "execution_count": null,
   "metadata": {},
   "outputs": [],
   "source": [
    "p = linalg.solve(BtB, Bty)"
   ]
  },
  {
   "cell_type": "code",
   "execution_count": null,
   "metadata": {},
   "outputs": [],
   "source": [
    "plot(x, basis.dot(p))\n",
    "plot(x,y)"
   ]
  },
  {
   "cell_type": "code",
   "execution_count": null,
   "metadata": {},
   "outputs": [],
   "source": [
    "Loss(p,y)"
   ]
  }
 ],
 "metadata": {
  "kernelspec": {
   "display_name": "Python 3",
   "language": "python",
   "name": "python3"
  },
  "language_info": {
   "codemirror_mode": {
    "name": "ipython",
    "version": 3
   },
   "file_extension": ".py",
   "mimetype": "text/x-python",
   "name": "python",
   "nbconvert_exporter": "python",
   "pygments_lexer": "ipython3",
   "version": "3.6.7"
  }
 },
 "nbformat": 4,
 "nbformat_minor": 4
}
